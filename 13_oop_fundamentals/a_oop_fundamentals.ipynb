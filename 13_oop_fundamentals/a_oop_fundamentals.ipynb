{
 "cells": [
  {
   "cell_type": "markdown",
   "id": "e7528f1f",
   "metadata": {},
   "source": [
    "# OOP fundamentals\n",
    "\n",
    "- object oriented programming (OOP)"
   ]
  },
  {
   "cell_type": "code",
   "execution_count": 5,
   "id": "2327c20e",
   "metadata": {},
   "outputs": [
    {
     "name": "stdout",
     "output_type": "stream",
     "text": [
      "dunder init running\n"
     ]
    },
    {
     "data": {
      "text/plain": [
       "'STI'"
      ]
     },
     "execution_count": 5,
     "metadata": {},
     "output_type": "execute_result"
    }
   ],
   "source": [
    "# define a class with name Admission\n",
    "class Admission:\n",
    "\n",
    "    # \"dunder init\" - initializer - note 2 underscores before and after init\n",
    "    # this method will be run when you instantiate a instance from this class\n",
    "    def __init__(self, school, name, program = \"Cool program\"):\n",
    "        print(\"dunder init running\")\n",
    "\n",
    "        # set the attributes to the values from the arguments\n",
    "        self.school = school\n",
    "        self.name = name\n",
    "        self.program = program\n",
    "\n",
    "# instantiate the instance person1 that is of type Admission\n",
    "person1 = Admission(\"STI\", \"Ceda\")\n",
    "\n",
    "person1.school\n"
   ]
  },
  {
   "cell_type": "code",
   "execution_count": 6,
   "id": "617d8aea",
   "metadata": {},
   "outputs": [
    {
     "data": {
      "text/plain": [
       "'Cool program'"
      ]
     },
     "execution_count": 6,
     "metadata": {},
     "output_type": "execute_result"
    }
   ],
   "source": [
    "person1.program"
   ]
  },
  {
   "cell_type": "code",
   "execution_count": 7,
   "id": "dc23ad95",
   "metadata": {},
   "outputs": [
    {
     "name": "stdout",
     "output_type": "stream",
     "text": [
      "dunder init running\n"
     ]
    },
    {
     "data": {
      "text/plain": [
       "'Java'"
      ]
     },
     "execution_count": 7,
     "metadata": {},
     "output_type": "execute_result"
    }
   ],
   "source": [
    "person2 = Admission(name = \"Johnny\", school = \"Cool school\", program = \"Java\")\n",
    "person2.program"
   ]
  },
  {
   "cell_type": "markdown",
   "id": "4c970d0e",
   "metadata": {},
   "source": [
    "## Note on memory\n",
    "\n",
    "By default, the \\_\\_repr\\_\\_ of an instance is showing the memory address of where the instance live\n",
    "\n",
    "- each instance of the class lives in different memory addresses\n",
    "  - they are different objects  "
   ]
  },
  {
   "cell_type": "code",
   "execution_count": 9,
   "id": "caa7b37d",
   "metadata": {},
   "outputs": [
    {
     "data": {
      "text/plain": [
       "(<__main__.Admission at 0x105f6f510>, <__main__.Admission at 0x10a021410>)"
      ]
     },
     "execution_count": 9,
     "metadata": {},
     "output_type": "execute_result"
    }
   ],
   "source": [
    "\n",
    "person1, person2"
   ]
  },
  {
   "cell_type": "code",
   "execution_count": 10,
   "id": "c267f981",
   "metadata": {},
   "outputs": [
    {
     "name": "stdout",
     "output_type": "stream",
     "text": [
      "dunder init running\n"
     ]
    },
    {
     "data": {
      "text/plain": [
       "<__main__.Admission at 0x10a029390>"
      ]
     },
     "execution_count": 10,
     "metadata": {},
     "output_type": "execute_result"
    }
   ],
   "source": [
    "person3 = Admission(name = \"Johnny\", school = \"Cool school\", program = \"Java\")\n",
    "person3"
   ]
  },
  {
   "cell_type": "markdown",
   "id": "cdd52a21",
   "metadata": {},
   "source": [
    "## Implement class student"
   ]
  },
  {
   "cell_type": "code",
   "execution_count": 12,
   "id": "c39ae273",
   "metadata": {},
   "outputs": [
    {
     "data": {
      "text/plain": [
       "('Dadda', False)"
      ]
     },
     "execution_count": 12,
     "metadata": {},
     "output_type": "execute_result"
    }
   ],
   "source": [
    "class Student:\n",
    "    def __init__(self, name, type_of_studies, school, age, passed):\n",
    "        self.name = name\n",
    "        self.type_of_studies = type_of_studies\n",
    "        self.school = school\n",
    "        self.age = age\n",
    "        self.passed = passed\n",
    "\n",
    "\n",
    "student1 = Student(\n",
    "    name=\"Dadda\",\n",
    "    age=31,\n",
    "    school=\"Cool school\",\n",
    "    passed=False,\n",
    "    type_of_studies=\"economics\",\n",
    ")\n",
    "\n",
    "\n",
    "student1.name, student1.passed"
   ]
  }
 ],
 "metadata": {
  "kernelspec": {
   "display_name": "python_kokchun_giang_de25",
   "language": "python",
   "name": "python3"
  },
  "language_info": {
   "codemirror_mode": {
    "name": "ipython",
    "version": 3
   },
   "file_extension": ".py",
   "mimetype": "text/x-python",
   "name": "python",
   "nbconvert_exporter": "python",
   "pygments_lexer": "ipython3",
   "version": "3.11.8"
  }
 },
 "nbformat": 4,
 "nbformat_minor": 5
}
